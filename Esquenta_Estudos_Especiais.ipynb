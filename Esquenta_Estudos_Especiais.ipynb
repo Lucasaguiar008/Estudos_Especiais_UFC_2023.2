{
  "cells": [
    {
      "cell_type": "markdown",
      "metadata": {
        "id": "view-in-github",
        "colab_type": "text"
      },
      "source": [
        "<a href=\"https://colab.research.google.com/github/Lucasaguiar008/Estudos_Especiais_UFC_2023.2/blob/main/Esquenta_Estudos_Especiais.ipynb\" target=\"_parent\"><img src=\"https://colab.research.google.com/assets/colab-badge.svg\" alt=\"Open In Colab\"/></a>"
      ]
    },
    {
      "cell_type": "markdown",
      "metadata": {
        "id": "hVrKTToOSTHa"
      },
      "source": [
        "# INICIO"
      ]
    },
    {
      "cell_type": "code",
      "execution_count": null,
      "metadata": {
        "colab": {
          "base_uri": "https://localhost:8080/"
        },
        "id": "9Tg5UHYV66jg",
        "outputId": "34b749f2-4012-41ab-bd61-82b69a5ab276"
      },
      "outputs": [
        {
          "output_type": "stream",
          "name": "stdout",
          "text": [
            "Requirement already satisfied: psutil in /usr/local/lib/python3.10/dist-packages (5.9.5)\n"
          ]
        }
      ],
      "source": [
        "# Bibliotecas que serão usadas\n",
        "import time\n",
        "import os\n",
        "import psutil\n",
        "import random\n",
        "import numpy as np\n",
        "\n",
        "!pip install psutil"
      ]
    },
    {
      "cell_type": "code",
      "execution_count": null,
      "metadata": {
        "id": "_sAiC1XK--s-"
      },
      "outputs": [],
      "source": [
        "def get_memory_usage():\n",
        "    process = psutil.Process(os.getpid())\n",
        "    return process.memory_info().rss  # Em bytes\n",
        "    # return process.memory_info().rss / 1024 / 1024  # Em megabytes"
      ]
    },
    {
      "cell_type": "markdown",
      "metadata": {
        "id": "kqrOGCe_eLFB"
      },
      "source": [
        "# IMPORTANDO OS DADOS DO GOOGLE DRIVE"
      ]
    },
    {
      "cell_type": "code",
      "execution_count": null,
      "metadata": {
        "colab": {
          "base_uri": "https://localhost:8080/"
        },
        "id": "fuXFbm0BmE9o",
        "outputId": "21942edc-ad26-4d9b-c30b-171ceccd60e5"
      },
      "outputs": [
        {
          "output_type": "stream",
          "name": "stdout",
          "text": [
            "Drive already mounted at /content/drive; to attempt to forcibly remount, call drive.mount(\"/content/drive\", force_remount=True).\n"
          ]
        }
      ],
      "source": [
        "# Monte o Google Drive no Colab\n",
        "from google.colab import drive\n",
        "drive.mount('/content/drive')"
      ]
    },
    {
      "cell_type": "code",
      "execution_count": null,
      "metadata": {
        "id": "tigF-EKMeKTg"
      },
      "outputs": [],
      "source": [
        "## Função para transformar os arquivos txt em vetores de entrada para as funções de busca\n",
        "def gerar_vetor_entrada(pasta,num):\n",
        "  caminho_arquivo = f'{pasta}/{num}.txt'  # Altere o caminho do arquivo conforme necessário\n",
        "  matriz = np.genfromtxt(caminho_arquivo, delimiter=',')\n",
        "  vetor = matriz.flatten()\n",
        "  return vetor\n",
        "\n",
        "\n",
        "## Exemplo de uso\n",
        "# pasta = '/content/drive/My Drive/EE_Esquenta/N_Ordenados'\n",
        "# num = 100\n",
        "# teste = gerar_vetor_entrada(pasta,num)"
      ]
    },
    {
      "cell_type": "markdown",
      "metadata": {
        "id": "kpQGZB22lk4S"
      },
      "source": [
        "# FUNÇÕES DE BUSCA"
      ]
    },
    {
      "cell_type": "code",
      "execution_count": null,
      "metadata": {
        "id": "Vs_hRIjJzI0n"
      },
      "outputs": [],
      "source": [
        "def busca_sequencial_v1(x, v):\n",
        "    indice = -1\n",
        "    for i in range(len(v)):\n",
        "        if v[i] == x:\n",
        "            indice = i\n",
        "    return indice"
      ]
    },
    {
      "cell_type": "code",
      "execution_count": null,
      "metadata": {
        "id": "70pbHclUzGF9"
      },
      "outputs": [],
      "source": [
        "def busca_sequencial_v2(x, v):\n",
        "    for i in range(len(v)):\n",
        "        if v[i] == x:\n",
        "            return i\n",
        "    return -1"
      ]
    },
    {
      "cell_type": "code",
      "execution_count": null,
      "metadata": {
        "colab": {
          "base_uri": "https://localhost:8080/"
        },
        "id": "g_pKQjfm0JHa",
        "outputId": "3b3632e2-c242-40a5-e1a3-25a1136fbbe1"
      },
      "outputs": [
        {
          "output_type": "stream",
          "name": "stdout",
          "text": [
            "8\n"
          ]
        }
      ],
      "source": [
        "def pesquisa_binaria(x, v, e, d):\n",
        "    meio = (e + d) // 2\n",
        "    if v[meio] == x:\n",
        "        return meio\n",
        "    if e >= d:\n",
        "        return -1\n",
        "    if v[meio] < x:\n",
        "        return pesquisa_binaria(x, v, meio + 1, d)\n",
        "    return pesquisa_binaria(x, v, e, meio - 1)\n",
        "\n",
        "vet = [1, 2, 8, 10, 20, 40, 90, 99, 100, 106]\n",
        "print(pesquisa_binaria(100, vet, 0, 9))\n"
      ]
    },
    {
      "cell_type": "code",
      "execution_count": null,
      "metadata": {
        "id": "OwoGXeF_32U6"
      },
      "outputs": [],
      "source": [
        "def BuscaQuadratica(x,v):\n",
        "    contador = 0\n",
        "    posicao = -1\n",
        "    entrou = False\n",
        "\n",
        "    for i in range(len(vet)):\n",
        "        for j in range(i, len(vet)):\n",
        "            if vet[i] == numero_procurado and not entrou:\n",
        "                posicao = i\n",
        "                if vet[j] == numero_procurado:\n",
        "                    contador += 1\n",
        "        if contador > 0:\n",
        "            entrou = True\n",
        "    # if entrou:\n",
        "        # print(f\"Posicao: {posicao} - contador de repeticao: {contador}\")\n",
        "\n",
        "\n",
        "vet = [2, 4, 5, 6, 2, 4, 9, 4, 5, 6]\n",
        "numero_procurado = 5\n",
        "BuscaQuadratica(numero_procurado,vet)"
      ]
    },
    {
      "cell_type": "code",
      "execution_count": null,
      "metadata": {
        "colab": {
          "base_uri": "https://localhost:8080/"
        },
        "id": "0SQfruZK5Riz",
        "outputId": "c2918a2c-7257-4e53-a9a8-ca9cfe4014d0"
      },
      "outputs": [
        {
          "output_type": "stream",
          "name": "stdout",
          "text": [
            "5\n"
          ]
        }
      ],
      "source": [
        "def busca_ternaria(x,vet):\n",
        "    inicio = 0\n",
        "    fim = len(vet) - 1\n",
        "    while inicio <= fim:\n",
        "        meio_esquerdo = inicio + (fim - inicio) // 3\n",
        "        meio_direito = fim - (fim - inicio) // 3\n",
        "        if vet[meio_esquerdo] == x:\n",
        "            return meio_esquerdo\n",
        "        if vet[meio_direito] == x:\n",
        "            return meio_direito\n",
        "        if vet[meio_esquerdo] > x:\n",
        "            fim = meio_esquerdo - 1\n",
        "        elif vet[meio_direito] < x:\n",
        "            inicio = meio_direito + 1\n",
        "        else:\n",
        "            inicio = meio_esquerdo + 1\n",
        "            fim = meio_direito - 1\n",
        "    return -1\n",
        "\n",
        "\n",
        "vet = [1, 2, 8, 10, 20, 40, 90, 99, 100, 106]\n",
        "print(busca_ternaria(40,vet))"
      ]
    },
    {
      "cell_type": "code",
      "execution_count": null,
      "metadata": {
        "colab": {
          "base_uri": "https://localhost:8080/"
        },
        "id": "iT4uJ5S151DB",
        "outputId": "0cbb530c-3ba3-4ad5-866d-07eafe807dca"
      },
      "outputs": [
        {
          "output_type": "stream",
          "name": "stdout",
          "text": [
            "None\n"
          ]
        }
      ],
      "source": [
        "def busca_cubica(numero_procurado,vet):\n",
        "    posicao = -1\n",
        "\n",
        "    for i in range(len(vet)):\n",
        "        for j in range(len(vet)):\n",
        "            for l in range(len(vet)):\n",
        "                if vet[i] == numero_procurado and vet[j] == numero_procurado and vet[l] == numero_procurado:\n",
        "                    posicao = i\n",
        "                    # return i\n",
        "    # if posicao != -1:\n",
        "    #     print(f\"Posicao: {posicao}\")\n",
        "\n",
        "vet = [2, 4, 5, 6, 2, 4, 9, 4, 5, 6]\n",
        "numero_procurado = 2\n",
        "print(busca_cubica(numero_procurado,vet))"
      ]
    },
    {
      "cell_type": "markdown",
      "metadata": {
        "id": "XTix-6U2lvNc"
      },
      "source": [
        "# Função que irá calcular o custo computacional\n",
        "\n",
        "\n"
      ]
    },
    {
      "cell_type": "code",
      "execution_count": null,
      "metadata": {
        "id": "0f5p4R6a7KWo"
      },
      "outputs": [],
      "source": [
        "## Função que irá calcular o custo computacional\n",
        "def Calculo_tempo_memoria(dim,pasta,qtd_vezes,number_busca,funcao_busca):\n",
        "  res_tempo = [];\n",
        "  res_memória = [];\n",
        "  for i in range(qtd_vezes):\n",
        "\n",
        "    # Registra a memória usada inicialmente e o tempo inicial\n",
        "\n",
        "    # Gerando o vetor de entrada\n",
        "    vet = gerar_vetor_entrada(pasta,dim)\n",
        "    inicio_memoria = get_memory_usage()\n",
        "    inicio = time.time()\n",
        "\n",
        "    #executa a função\n",
        "    # funcao_busca(number_busca, vet) # busca sequencial v1 e v2\n",
        "    # funcao_busca(number_busca, vet, 0, len(vet)) #busca binária\n",
        "    funcao_busca(number_busca, vet) # busca quadrática\n",
        "\n",
        "    # Registra a memória usada após executar a função e o tempo final\n",
        "    fim = time.time()\n",
        "    fim_memoria = get_memory_usage()\n",
        "\n",
        "    # Realiza o cálculo do tempo decorrido e do uso da memória\n",
        "    tempo_decorrido = fim - inicio\n",
        "    uso_memoria = abs(fim_memoria - inicio_memoria)\n",
        "\n",
        "    res_tempo.append(tempo_decorrido)\n",
        "    res_memória.append(uso_memoria)\n",
        "\n",
        "  print(f\"Tempo de execução médio é de: {np.mean(res_tempo)} segundos\")\n",
        "  print(f\"Uso de memória médio é de: {np.mean(res_memória)} bytes\")\n",
        "  print(f'Tempo: {res_tempo}')\n",
        "  print(f'Memória: {res_memória}')\n",
        "\n",
        "  return res_tempo,res_memória"
      ]
    },
    {
      "cell_type": "markdown",
      "source": [
        "# Experimento dos algoritmos"
      ],
      "metadata": {
        "id": "H0c38_ZUqVKZ"
      }
    },
    {
      "cell_type": "code",
      "execution_count": null,
      "metadata": {
        "id": "13OUBMQCo2Lf"
      },
      "outputs": [],
      "source": [
        "## Testes nos dados\n",
        "\n",
        "# pasta = '/content/drive/My Drive/EE_Esquenta/Ordenados'\n",
        "pasta = '/content/drive/My Drive/EE_Esquenta/N_Ordenados'\n",
        "\n",
        "dim = [100, 200, 1000, 2000, 5000, 10000, 50000, 100000, 500000, 1000000, 5000000, 10000000, 100000000]\n",
        "qtd_experimentos = 10\n",
        "\n",
        "for i in range(len(dim)):\n",
        "  print(f'Experimento {dim[i]}:')\n",
        "  vetor = gerar_vetor_entrada(pasta,dim[i]) #Vetor de entrada\n",
        "\n",
        "  # número que será buscado na busca sequencial v1, v2 | busca quadrática | busca_ternaria\n",
        "  # number_busca = random.randint(min(vetor), max(vetor))\n",
        "\n",
        "  #busca binária c1\n",
        "  # number_busca = vetor[0] # número que será buscado na busca binária\n",
        "\n",
        "  #busca binária c2\n",
        "  # meio = int(len(vetor)/2)\n",
        "  # number_busca = vetor[meio]\n",
        "\n",
        "  # busca_cubica\n",
        "  number_busca = vetor[3]\n",
        "\n",
        "  funcao = busca_cubica # sempre alterar ao mudar a função\n",
        "  tempo,memória = Calculo_tempo_memoria(dim[i],pasta,qtd_experimentos,number_busca,funcao) # Se ater aos parâmetros da função que será usada\n",
        "  print('\\n')"
      ]
    }
  ],
  "metadata": {
    "colab": {
      "collapsed_sections": [
        "hVrKTToOSTHa",
        "kqrOGCe_eLFB",
        "kpQGZB22lk4S",
        "XTix-6U2lvNc",
        "H0c38_ZUqVKZ"
      ],
      "provenance": [],
      "mount_file_id": "1n0Ll58kmRtv6i_BhZ3OPmJ12jULozQRM",
      "authorship_tag": "ABX9TyOcbV8yuAgXEnmIvN1XgXhY",
      "include_colab_link": true
    },
    "kernelspec": {
      "display_name": "Python 3",
      "name": "python3"
    },
    "language_info": {
      "name": "python"
    }
  },
  "nbformat": 4,
  "nbformat_minor": 0
}
